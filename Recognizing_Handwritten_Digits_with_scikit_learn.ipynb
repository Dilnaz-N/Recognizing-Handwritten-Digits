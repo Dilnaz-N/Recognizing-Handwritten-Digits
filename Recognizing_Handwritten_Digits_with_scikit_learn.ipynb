{
  "nbformat": 4,
  "nbformat_minor": 0,
  "metadata": {
    "colab": {
      "name": "Recognizing Handwritten Digits with scikit-learn.ipynb",
      "provenance": []
    },
    "kernelspec": {
      "name": "python3",
      "display_name": "Python 3"
    },
    "language_info": {
      "name": "python"
    }
  },
  "cells": [
    {
      "cell_type": "markdown",
      "metadata": {
        "id": "nGD2ApLnvAG2"
      },
      "source": [
        "## Importing Libraries\n"
      ]
    },
    {
      "cell_type": "code",
      "metadata": {
        "id": "v6UJqnzVuCpA"
      },
      "source": [
        "from sklearn.datasets import load_digits\n",
        "import numpy as np \n",
        "from sklearn.model_selection import train_test_split\n",
        "import matplotlib.pyplot as plt\n",
        "%matplotlib inline\n",
        "from sklearn import svm\n",
        "from sklearn.metrics import classification_report"
      ],
      "execution_count": 1,
      "outputs": []
    },
    {
      "cell_type": "markdown",
      "metadata": {
        "id": "WPgyIlQwvIcc"
      },
      "source": [
        "## Description Of the Dataset"
      ]
    },
    {
      "cell_type": "code",
      "metadata": {
        "colab": {
          "base_uri": "https://localhost:8080/"
        },
        "id": "C8LVkPwLwy0o",
        "outputId": "18cbdef8-2920-4edf-abed-7f5c4892da47"
      },
      "source": [
        "digits = load_digits()\n",
        "print(digits.data.shape)"
      ],
      "execution_count": 2,
      "outputs": [
        {
          "output_type": "stream",
          "text": [
            "(1797, 64)\n"
          ],
          "name": "stdout"
        }
      ]
    },
    {
      "cell_type": "code",
      "metadata": {
        "colab": {
          "base_uri": "https://localhost:8080/"
        },
        "id": "esV_lQL_w4Le",
        "outputId": "02a0c3bd-04ed-42ea-924d-e6fae7166661"
      },
      "source": [
        "print(digits.DESCR)\n"
      ],
      "execution_count": 3,
      "outputs": [
        {
          "output_type": "stream",
          "text": [
            ".. _digits_dataset:\n",
            "\n",
            "Optical recognition of handwritten digits dataset\n",
            "--------------------------------------------------\n",
            "\n",
            "**Data Set Characteristics:**\n",
            "\n",
            "    :Number of Instances: 5620\n",
            "    :Number of Attributes: 64\n",
            "    :Attribute Information: 8x8 image of integer pixels in the range 0..16.\n",
            "    :Missing Attribute Values: None\n",
            "    :Creator: E. Alpaydin (alpaydin '@' boun.edu.tr)\n",
            "    :Date: July; 1998\n",
            "\n",
            "This is a copy of the test set of the UCI ML hand-written digits datasets\n",
            "https://archive.ics.uci.edu/ml/datasets/Optical+Recognition+of+Handwritten+Digits\n",
            "\n",
            "The data set contains images of hand-written digits: 10 classes where\n",
            "each class refers to a digit.\n",
            "\n",
            "Preprocessing programs made available by NIST were used to extract\n",
            "normalized bitmaps of handwritten digits from a preprinted form. From a\n",
            "total of 43 people, 30 contributed to the training set and different 13\n",
            "to the test set. 32x32 bitmaps are divided into nonoverlapping blocks of\n",
            "4x4 and the number of on pixels are counted in each block. This generates\n",
            "an input matrix of 8x8 where each element is an integer in the range\n",
            "0..16. This reduces dimensionality and gives invariance to small\n",
            "distortions.\n",
            "\n",
            "For info on NIST preprocessing routines, see M. D. Garris, J. L. Blue, G.\n",
            "T. Candela, D. L. Dimmick, J. Geist, P. J. Grother, S. A. Janet, and C.\n",
            "L. Wilson, NIST Form-Based Handprint Recognition System, NISTIR 5469,\n",
            "1994.\n",
            "\n",
            ".. topic:: References\n",
            "\n",
            "  - C. Kaynak (1995) Methods of Combining Multiple Classifiers and Their\n",
            "    Applications to Handwritten Digit Recognition, MSc Thesis, Institute of\n",
            "    Graduate Studies in Science and Engineering, Bogazici University.\n",
            "  - E. Alpaydin, C. Kaynak (1998) Cascading Classifiers, Kybernetika.\n",
            "  - Ken Tang and Ponnuthurai N. Suganthan and Xi Yao and A. Kai Qin.\n",
            "    Linear dimensionalityreduction using relevance weighted LDA. School of\n",
            "    Electrical and Electronic Engineering Nanyang Technological University.\n",
            "    2005.\n",
            "  - Claudio Gentile. A New Approximate Maximal Margin Classification\n",
            "    Algorithm. NIPS. 2000.\n"
          ],
          "name": "stdout"
        }
      ]
    },
    {
      "cell_type": "code",
      "metadata": {
        "colab": {
          "base_uri": "https://localhost:8080/"
        },
        "id": "6P9e6C5Lw9Mt",
        "outputId": "8a56f422-1204-45a1-e51f-e3293d4a7011"
      },
      "source": [
        "digits.images[0]"
      ],
      "execution_count": 4,
      "outputs": [
        {
          "output_type": "execute_result",
          "data": {
            "text/plain": [
              "array([[ 0.,  0.,  5., 13.,  9.,  1.,  0.,  0.],\n",
              "       [ 0.,  0., 13., 15., 10., 15.,  5.,  0.],\n",
              "       [ 0.,  3., 15.,  2.,  0., 11.,  8.,  0.],\n",
              "       [ 0.,  4., 12.,  0.,  0.,  8.,  8.,  0.],\n",
              "       [ 0.,  5.,  8.,  0.,  0.,  9.,  8.,  0.],\n",
              "       [ 0.,  4., 11.,  0.,  1., 12.,  7.,  0.],\n",
              "       [ 0.,  2., 14.,  5., 10., 12.,  0.,  0.],\n",
              "       [ 0.,  0.,  6., 13., 10.,  0.,  0.,  0.]])"
            ]
          },
          "metadata": {
            "tags": []
          },
          "execution_count": 4
        }
      ]
    },
    {
      "cell_type": "code",
      "metadata": {
        "colab": {
          "base_uri": "https://localhost:8080/"
        },
        "id": "OKCUnSOfxTIQ",
        "outputId": "1c4c295c-b673-4d44-9002-bd96ea76076f"
      },
      "source": [
        "digits.target"
      ],
      "execution_count": 5,
      "outputs": [
        {
          "output_type": "execute_result",
          "data": {
            "text/plain": [
              "array([0, 1, 2, ..., 8, 9, 8])"
            ]
          },
          "metadata": {
            "tags": []
          },
          "execution_count": 5
        }
      ]
    },
    {
      "cell_type": "code",
      "metadata": {
        "colab": {
          "base_uri": "https://localhost:8080/"
        },
        "id": "YSQ3KFtcz_Ed",
        "outputId": "997bfab8-9eaf-4b0b-ba30-1498b349e6f9"
      },
      "source": [
        "digits.target.size"
      ],
      "execution_count": 6,
      "outputs": [
        {
          "output_type": "execute_result",
          "data": {
            "text/plain": [
              "1797"
            ]
          },
          "metadata": {
            "tags": []
          },
          "execution_count": 6
        }
      ]
    },
    {
      "cell_type": "markdown",
      "metadata": {
        "id": "xz1ZehZtxsul"
      },
      "source": [
        "## **Visualization**"
      ]
    },
    {
      "cell_type": "code",
      "metadata": {
        "colab": {
          "base_uri": "https://localhost:8080/",
          "height": 282
        },
        "id": "NLWRZ2DQx20Y",
        "outputId": "9b09d564-2189-4afa-a672-45cdf775a2f4"
      },
      "source": [
        "plt.gray\n",
        "plt.imshow(digits.images[0],cmap=plt.cm.gray_r) "
      ],
      "execution_count": 7,
      "outputs": [
        {
          "output_type": "execute_result",
          "data": {
            "text/plain": [
              "<matplotlib.image.AxesImage at 0x7f7185e88190>"
            ]
          },
          "metadata": {
            "tags": []
          },
          "execution_count": 7
        },
        {
          "output_type": "display_data",
          "data": {
            "image/png": "[encoded data removed]",
            "text/plain": [
              "<Figure size 432x288 with 1 Axes>"
            ]
          },
          "metadata": {
            "tags": [],
            "needs_background": "light"
          }
        }
      ]
    },
    {
      "cell_type": "code",
      "metadata": {
        "colab": {
          "base_uri": "https://localhost:8080/",
          "height": 281
        },
        "id": "u21BmCkFynrG",
        "outputId": "f182daa3-3366-44bf-a18e-3d474d1923cb"
      },
      "source": [
        "plt.figure(figsize=(15,4))\n",
        "plt.subplots_adjust(hspace=0.8)\n",
        "images_and_labels = list(zip(digits.images, digits.target))\n",
        "\n",
        "for index, (image, label) in enumerate(images_and_labels[:10]):\n",
        "    plt.subplot(2, 5, index + 1)\n",
        "    plt.imshow(image, cmap=plt.cm.gray_r, interpolation='nearest')\n",
        "    plt.title('Training: %i' % label, fontsize =12)"
      ],
      "execution_count": 8,
      "outputs": [
        {
          "output_type": "display_data",
          "data": {
            "image/png": "[encoded data removed]",
            "text/plain": [
              "<Figure size 1080x288 with 10 Axes>"
            ]
          },
          "metadata": {
            "tags": [],
            "needs_background": "light"
          }
        }
      ]
    },
    {
      "cell_type": "code",
      "metadata": {
        "id": "HOx7hDN21LLH"
      },
      "source": [
        "n_samples = len(digits.images)\n",
        "data = digits.images.reshape((n_samples, -1))"
      ],
      "execution_count": 9,
      "outputs": []
    },
    {
      "cell_type": "markdown",
      "metadata": {
        "id": "bE6g9aj4yyVv"
      },
      "source": [
        "## CASE - 1\n",
        "### Splitting the dataset with test size as 0.01"
      ]
    },
    {
      "cell_type": "code",
      "metadata": {
        "id": "0XT3RLtx0mj1"
      },
      "source": [
        "x_train, x_test, y_train, y_test = train_test_split(data, digits.target, test_size=0.01, random_state=0)\n"
      ],
      "execution_count": 10,
      "outputs": []
    },
    {
      "cell_type": "markdown",
      "metadata": {
        "id": "d4jrvtDK1Thn"
      },
      "source": [
        "## Training and Prediction Using SVC"
      ]
    },
    {
      "cell_type": "code",
      "metadata": {
        "colab": {
          "base_uri": "https://localhost:8080/"
        },
        "id": "DN8OkHWf1S89",
        "outputId": "c39102b3-a3ab-4bf7-c5c7-975ef7135e8b"
      },
      "source": [
        "svc = svm.SVC(gamma=0.001, C=100.)\n",
        "svc.fit(x_train, y_train)"
      ],
      "execution_count": 11,
      "outputs": [
        {
          "output_type": "execute_result",
          "data": {
            "text/plain": [
              "SVC(C=100.0, break_ties=False, cache_size=200, class_weight=None, coef0=0.0,\n",
              "    decision_function_shape='ovr', degree=3, gamma=0.001, kernel='rbf',\n",
              "    max_iter=-1, probability=False, random_state=None, shrinking=True,\n",
              "    tol=0.001, verbose=False)"
            ]
          },
          "metadata": {
            "tags": []
          },
          "execution_count": 11
        }
      ]
    },
    {
      "cell_type": "code",
      "metadata": {
        "colab": {
          "base_uri": "https://localhost:8080/"
        },
        "id": "1wR2x5g91lGX",
        "outputId": "ac0e2450-d623-434b-87ca-e292db5c21d3"
      },
      "source": [
        "y_pred = svc.predict(x_test)\n",
        "y_pred"
      ],
      "execution_count": 12,
      "outputs": [
        {
          "output_type": "execute_result",
          "data": {
            "text/plain": [
              "array([2, 8, 2, 6, 6, 7, 1, 9, 8, 5, 2, 8, 6, 6, 6, 6, 1, 0])"
            ]
          },
          "metadata": {
            "tags": []
          },
          "execution_count": 12
        }
      ]
    },
    {
      "cell_type": "code",
      "metadata": {
        "colab": {
          "base_uri": "https://localhost:8080/",
          "height": 306
        },
        "id": "ekca1Nij1p9u",
        "outputId": "2524b685-b9ac-4bc1-fc7b-d60345af98df"
      },
      "source": [
        "images_and_predictions = list(zip(x_test,y_pred))\n",
        "\n",
        "plt.figure(figsize=(18,5))\n",
        "for index, (image, prediction) in enumerate(images_and_predictions[:19]):\n",
        "    plt.subplot(2, 9, index + 1)\n",
        "    image = image.reshape(8, 8)\n",
        "    plt.imshow(image, cmap=plt.cm.gray_r, interpolation='nearest')\n",
        "    plt.title('Prediction: %i' % prediction)\n",
        "\n",
        "# save the figure\n",
        "plt.savefig('plot3.png', dpi=300, bbox_inches='tight')"
      ],
      "execution_count": 13,
      "outputs": [
        {
          "output_type": "display_data",
          "data": {
            "image/png": "[encoded data removed]",
            "text/plain": [
              "<Figure size 1296x360 with 18 Axes>"
            ]
          },
          "metadata": {
            "tags": [],
            "needs_background": "light"
          }
        }
      ]
    },
    {
      "cell_type": "code",
      "metadata": {
        "colab": {
          "base_uri": "https://localhost:8080/"
        },
        "id": "zDnBTCxN17AV",
        "outputId": "8b95cd0c-80f6-478c-ee88-a66c4cc096f7"
      },
      "source": [
        "score = svc.score(x_test, y_test)\n",
        "print('Accuracy Score: {0}'.format(score))\n",
        "cr=classification_report(y_test, y_pred)\n",
        "print(\"\\nClassification report for SVM classifier:\\n\\n\",cr)"
      ],
      "execution_count": 14,
      "outputs": [
        {
          "output_type": "stream",
          "text": [
            "Accuracy Score: 1.0\n",
            "\n",
            "Classification report for SVM classifier:\n",
            "\n",
            "               precision    recall  f1-score   support\n",
            "\n",
            "           0       1.00      1.00      1.00         1\n",
            "           1       1.00      1.00      1.00         2\n",
            "           2       1.00      1.00      1.00         3\n",
            "           5       1.00      1.00      1.00         1\n",
            "           6       1.00      1.00      1.00         6\n",
            "           7       1.00      1.00      1.00         1\n",
            "           8       1.00      1.00      1.00         3\n",
            "           9       1.00      1.00      1.00         1\n",
            "\n",
            "    accuracy                           1.00        18\n",
            "   macro avg       1.00      1.00      1.00        18\n",
            "weighted avg       1.00      1.00      1.00        18\n",
            "\n"
          ],
          "name": "stdout"
        }
      ]
    },
    {
      "cell_type": "markdown",
      "metadata": {
        "id": "MhlHyHQs2RLP"
      },
      "source": [
        "### For Test Case-1, the accuracy is found to be 100%"
      ]
    },
    {
      "cell_type": "markdown",
      "metadata": {
        "id": "k7Q98woZ2eHm"
      },
      "source": [
        "## CASE - 2\n",
        "\n",
        "### Splitting the dataset with test size as 0.7"
      ]
    },
    {
      "cell_type": "code",
      "metadata": {
        "id": "fa50Ga6Q2yS9"
      },
      "source": [
        "x_train, x_test, y_train, y_test = train_test_split(digits.data, digits.target, test_size=0.7, random_state=0)\n",
        "svc = svm.SVC(gamma=0.001, C=100.)\n",
        "svc.fit(x_train, y_train)\n",
        "y_pred = svc.predict(x_test)"
      ],
      "execution_count": 15,
      "outputs": []
    },
    {
      "cell_type": "code",
      "metadata": {
        "colab": {
          "base_uri": "https://localhost:8080/"
        },
        "id": "hL_zqQS222kA",
        "outputId": "2a30c056-b909-4861-cc7f-a2308ab40ac7"
      },
      "source": [
        "score = svc.score(x_test, y_test)\n",
        "print('Accuracy Score: {0}'.format(score))\n",
        "cr=classification_report(y_test, y_pred)\n",
        "print(\"\\nClassification report for SVM classifier:\\n\\n\",cr)"
      ],
      "execution_count": 16,
      "outputs": [
        {
          "output_type": "stream",
          "text": [
            "Accuracy Score: 0.9841017488076311\n",
            "\n",
            "Classification report for SVM classifier:\n",
            "\n",
            "               precision    recall  f1-score   support\n",
            "\n",
            "           0       1.00      1.00      1.00       129\n",
            "           1       0.97      0.99      0.98       124\n",
            "           2       1.00      0.98      0.99       120\n",
            "           3       0.98      0.99      0.98       129\n",
            "           4       0.99      1.00      1.00       120\n",
            "           5       0.97      0.96      0.97       140\n",
            "           6       0.99      0.99      0.99       127\n",
            "           7       0.98      1.00      0.99       116\n",
            "           8       0.99      0.94      0.96       128\n",
            "           9       0.97      0.98      0.98       125\n",
            "\n",
            "    accuracy                           0.98      1258\n",
            "   macro avg       0.98      0.98      0.98      1258\n",
            "weighted avg       0.98      0.98      0.98      1258\n",
            "\n"
          ],
          "name": "stdout"
        }
      ]
    },
    {
      "cell_type": "markdown",
      "metadata": {
        "id": "a6CYfgMe2qRu"
      },
      "source": [
        "### For Test Case-2, the accuracy is found to be 98.4%"
      ]
    },
    {
      "cell_type": "markdown",
      "metadata": {
        "id": "LSUQ03mC3Koo"
      },
      "source": [
        "## CASE - 3\n",
        "\n",
        "### Splitting the dataset with test size as 0.9"
      ]
    },
    {
      "cell_type": "code",
      "metadata": {
        "id": "llrM_C683GuN"
      },
      "source": [
        "x_train, x_test, y_train, y_test = train_test_split(digits.data, digits.target, test_size=0.9, random_state=0)\n",
        "svc = svm.SVC(gamma=0.001, C=100.)\n",
        "svc.fit(x_train, y_train)\n",
        "y_pred = svc.predict(x_test)"
      ],
      "execution_count": 19,
      "outputs": []
    },
    {
      "cell_type": "code",
      "metadata": {
        "colab": {
          "base_uri": "https://localhost:8080/"
        },
        "id": "5hLQWbuP3Xkm",
        "outputId": "4299201c-7f36-41bb-c5b8-857ba0fcca37"
      },
      "source": [
        "score = svc.score(x_test, y_test)\n",
        "print('Accuracy Score: {0}'.format(score))\n",
        "cr=classification_report(y_test, y_pred)\n",
        "print(\"\\nClassification report for SVM classifier:\\n\\n\",cr)"
      ],
      "execution_count": 20,
      "outputs": [
        {
          "output_type": "stream",
          "text": [
            "Accuracy Score: 0.9684796044499382\n",
            "\n",
            "Classification report for SVM classifier:\n",
            "\n",
            "               precision    recall  f1-score   support\n",
            "\n",
            "           0       1.00      0.99      1.00       161\n",
            "           1       0.95      0.99      0.97       163\n",
            "           2       0.99      0.99      0.99       159\n",
            "           3       0.98      0.95      0.96       168\n",
            "           4       0.98      0.98      0.98       159\n",
            "           5       0.95      0.96      0.96       161\n",
            "           6       0.99      0.98      0.99       166\n",
            "           7       0.97      0.97      0.97       159\n",
            "           8       0.95      0.89      0.92       161\n",
            "           9       0.91      0.97      0.94       161\n",
            "\n",
            "    accuracy                           0.97      1618\n",
            "   macro avg       0.97      0.97      0.97      1618\n",
            "weighted avg       0.97      0.97      0.97      1618\n",
            "\n"
          ],
          "name": "stdout"
        }
      ]
    },
    {
      "cell_type": "markdown",
      "metadata": {
        "id": "vrjZBaT-3ajN"
      },
      "source": [
        "### For Test Case-3, the accuracy is found to be 96.8%"
      ]
    }
  ]
}